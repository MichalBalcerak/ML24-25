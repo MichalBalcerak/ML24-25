{
  "nbformat": 4,
  "nbformat_minor": 0,
  "metadata": {
    "colab": {
      "provenance": [],
      "authorship_tag": "ABX9TyN75WxDATeFxD9Oj2hn9K4m",
      "include_colab_link": true
    },
    "kernelspec": {
      "name": "python3",
      "display_name": "Python 3"
    },
    "language_info": {
      "name": "python"
    }
  },
  "cells": [
    {
      "cell_type": "markdown",
      "metadata": {
        "id": "view-in-github",
        "colab_type": "text"
      },
      "source": [
        "<a href=\"https://colab.research.google.com/github/MichalBalcerak/ML24-25/blob/main/Homework06.ipynb\" target=\"_parent\"><img src=\"https://colab.research.google.com/assets/colab-badge.svg\" alt=\"Open In Colab\"/></a>"
      ]
    },
    {
      "cell_type": "markdown",
      "source": [
        "# Equivalence Analysis\n",
        "### Are *local RSS minimization* and *RSS gain maximization* equivalent?\n"
      ],
      "metadata": {
        "id": "uCXM5nlneH7n"
      }
    },
    {
      "cell_type": "markdown",
      "source": [
        "Consider the simple dataset with one feature $X$ and labels $y$:\n",
        "$$\n",
        "\\begin{array}{|c|c|c|}\n",
        "\\hline\n",
        "\\text{X} & \\text{y} \\\\\n",
        "\\hline\n",
        "1 & 1  \\\\\n",
        "2 & 1 \\\\\n",
        "3 & 6  \\\\\n",
        "4 & 8  \\\\\n",
        "5 & 10  \\\\\n",
        "\\hline\n",
        "\\end{array}\n",
        "$$\n",
        "\n",
        "**The first step** of both methods is the same - split data into 2 parts, dependent on value of $X$. At the start there is the only one node to split, so we calculate total RSS and this is equivalent to local RSS. As the *parent RSS* is constant, due to one node, *RSS gain* maximization is equivalent to *local RSS* minimization.\n",
        "\n",
        "The threshold is $X < 3$. Then RSS $\\sum_m\\sum_i(y_i-\\overline{y_{R_m}})^2$ is minimal. Now we have:\n",
        "\n",
        "*  Left leaf: $X < 3$: $x\\in\\{1,2\\},\\quad \\overline{y}=1,\\quad\\sum_i(y_i-\\overline{y})^2=0$\n",
        "*  Right leaf: $X \\geq 3$: $x\\in\\{3,4,5\\},\\quad \\overline{y}=\\frac{6+8+10}{3}=8,\\quad\\sum_i(y_i-\\overline{y})^2=(6-8)^2+(10-8)^2=8$\n",
        "\n",
        "But **the second step is different**:\n",
        "\n",
        "**If we split left leaf** (by the condition $X< 2$), we get two new leaves, each with the *local RSS* equals to $0$, because both of them will have one element ($x\\in\\{1\\}$ and $x\\in\\{2\\}$).\n",
        "\n",
        "**If we split right leaf**, the condition is $X< 4$ (without loss of generality - the condition $X< 5$ - provides the same local RSS value), we get two new leaves:\n",
        "\n",
        "\n",
        "*   *(child)* Left leaf: $X < 5$: $x\\in\\{3\\}, \\quad \\overline{y}=6,\\quad\\sum_i(y_i-\\overline{y})^2=0$\n",
        "*  *(child)* Right leaf: $X \\geq 5$: $x\\in\\{4,5\\}, \\quad \\overline{y}=\\frac{8+10}{2},\\quad\\sum_i(y_i-\\overline{y})^2=2$\n",
        "\n",
        "Since *local RSS* equals to $0$ in the first case (splitting the left leaf) and equals to $0+2=2$ in the second case (splitting the right leaf), **Local RSS Minimization algorithm selects the first case**.\n",
        "\n",
        "However, if we split the left leaf, reduction in RSS equals to $0$. If we split the right leaf, it is equal to $8-2=6$. Therefore, **RSS Gain Maximization algorithm selects the second case** because reduction in RSS is greater in that case.\n",
        "\n",
        "Thus, *local RSS minimization* and *RSS gain maximization* are **not** equivalent.\n"
      ],
      "metadata": {
        "id": "U-n3vqWReXyC"
      }
    },
    {
      "cell_type": "markdown",
      "source": [
        "### Does *total RSS minimization* coincide with either of these two, or is it distinct?\n",
        "\n",
        "*Total RSS minimization* **is equivalent to** *RSS Gain Maximization*\n",
        "\n",
        "Proof:\n",
        "\n",
        "Suppose we chose feature $X$, threshold $t$ and split leaf $M$.\n",
        "\n",
        "Let's notice that *total RSS value* is (after that split) equals to:\n",
        "$$\\sum_{m\\in\\textit{Leaves}(T(X,t))}\\sum_{i\\in R_m}(y_i-\\overline{y_{R_m}})^2=\\sum_{m\\in\\textit{Leaves}(T(X,t))\\backslash\\{M\\}}\\sum_{i\\in R_m}(y_i-\\overline{y_{R_m}})^2-\\underbrace{\\left(\\sum_{i\\in R_M}(y_i-\\overline{y_{R_M}})^2 - \\sum_{m=1}^2\\sum_{i\\in R_m}(y_i-\\overline{y_{R_m}})^2\\right)}_{\\text{Parent RSS - Children RSS = RSS Gain}}$$\n",
        "*All notations are similar to the ones were used in class. Note that $\\textit{Leaves}(T(X,t))\\backslash\\{M\\}$ is the set of all leaves but without selected $M$ leaf.*\n",
        "\n",
        "As we can see, **minimization of *total RSS value* is equivalent to *maximization of RSS Gain* ,** since the term\n",
        "$$\\sum_{m\\in\\textit{Leaves}(T(X,t))\\backslash\\{M\\}}\\sum_{i\\in R_m}(y_i-\\overline{y_{R_m}})^2$$\n",
        "is constant in both methods- this is the sum of RSS in all leaves except $M$ - the one which was split, which means that methods *Total RSS minimization* and *RSS Gain Maximization* are equivalent.\n"
      ],
      "metadata": {
        "id": "JmWH1SfxrvuC"
      }
    },
    {
      "cell_type": "code",
      "execution_count": null,
      "metadata": {
        "id": "maRArRvfdfM-"
      },
      "outputs": [],
      "source": []
    }
  ]
}