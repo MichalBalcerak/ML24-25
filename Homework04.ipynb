{
  "nbformat": 4,
  "nbformat_minor": 0,
  "metadata": {
    "colab": {
      "provenance": [],
      "authorship_tag": "ABX9TyPRJoUkOkzFzGnG/wzlHhtn",
      "include_colab_link": true
    },
    "kernelspec": {
      "name": "python3",
      "display_name": "Python 3"
    },
    "language_info": {
      "name": "python"
    }
  },
  "cells": [
    {
      "cell_type": "markdown",
      "metadata": {
        "id": "view-in-github",
        "colab_type": "text"
      },
      "source": [
        "<a href=\"https://colab.research.google.com/github/MichalBalcerak/ML24-25/blob/main/Homework04.ipynb\" target=\"_parent\"><img src=\"https://colab.research.google.com/assets/colab-badge.svg\" alt=\"Open In Colab\"/></a>"
      ]
    },
    {
      "cell_type": "code",
      "execution_count": null,
      "metadata": {
        "id": "VR02gc4nTl5C"
      },
      "outputs": [],
      "source": [
        "import numpy as np\n",
        "import pandas as pd"
      ]
    },
    {
      "cell_type": "markdown",
      "source": [
        "I generate data based on linear relationship:\n",
        "$$y=\\beta_0+\\beta_1x_1+\\dots+\\beta_nx_n+\\epsilon\n",
        "$$\n",
        "where\n",
        "$$\\epsilon\\sim\\mathcal{N}(0,\\sigma^2)$$\n",
        "I select $\\sigma^2=1$, $n=50$, $\\beta_0=2$ and only 9 other $\\beta_i\\neq0$.\\\n",
        "$x_i$ are drawn from $Unif(0,4)$\\\n",
        "All these parameters are known (estabilished)."
      ],
      "metadata": {
        "id": "j82bove7Tpqv"
      }
    },
    {
      "cell_type": "markdown",
      "source": [],
      "metadata": {
        "id": "iYb5FxkvVH7t"
      }
    },
    {
      "cell_type": "code",
      "source": [
        "np.random.seed(42)\n",
        "\n",
        "X = np.zeros((1500,50))\n",
        "X = np.hstack((np.ones((X.shape[0], 1)), X))\n",
        "for i in range(50):\n",
        "    x = np.random.uniform(0,4,1500)\n",
        "    X[:,i+1] = x\n",
        "\n",
        "beta = np.zeros((51,1))\n",
        "\n",
        "beta[0]=np.random.uniform(1,4)\n",
        "non_zero_betas = np.random.choice(np.arange(1,51,1), size=9, replace=False)\n",
        "\n",
        "for i in non_zero_betas:\n",
        "    beta[i] = np.random.uniform(1,4)\n",
        "\n",
        "y = X @ beta + np.random.normal(scale = 1.0, size=(1500,1))"
      ],
      "metadata": {
        "id": "pQPgM9naTpHN"
      },
      "execution_count": null,
      "outputs": []
    }
  ]
}