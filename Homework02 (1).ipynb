{
  "nbformat": 4,
  "nbformat_minor": 0,
  "metadata": {
    "colab": {
      "provenance": []
    },
    "kernelspec": {
      "name": "python3",
      "display_name": "Python 3"
    },
    "language_info": {
      "name": "python"
    }
  },
  "cells": [
    {
      "cell_type": "code",
      "source": [],
      "metadata": {
        "id": "YSy74wb5VZgl"
      },
      "execution_count": null,
      "outputs": []
    },
    {
      "cell_type": "code",
      "execution_count": 1,
      "metadata": {
        "id": "bSvJupR9UfDO"
      },
      "outputs": [],
      "source": [
        "import numpy as np\n",
        "import matplotlib.pyplot as plt\n",
        "from sklearn.mixture import GaussianMixture\n",
        "from matplotlib.colors import Normalize\n",
        "from matplotlib.lines import Line2D\n",
        "from sklearn.metrics import silhouette_score\n",
        "\n",
        "\n",
        "np.random.seed(0)\n",
        "\n",
        "mean1 = np.array([0.0, 0.0])\n",
        "cov1 = np.array([[0.3, 0.2],\n",
        "                 [0.2,  0.3]])\n",
        "data1 = np.random.multivariate_normal(mean1, cov1, 500)\n",
        "\n",
        "mean2 = np.array([1.6, -0.6])\n",
        "cov2 = np.array([[0.1, 0],\n",
        "                 [0,  0.4]])\n",
        "data2 = np.random.multivariate_normal(mean2, cov2, 500)\n",
        "\n",
        "mean3 = np.array([-0.8, 1.4])\n",
        "cov3 = np.array([[0.2, 0],\n",
        "                 [0,  0.2]])\n",
        "data3 = np.random.multivariate_normal(mean3, cov3, 500)\n",
        "\n",
        "\n",
        "data_X = np.vstack([data1, data2, data3])"
      ]
    }
  ]
}